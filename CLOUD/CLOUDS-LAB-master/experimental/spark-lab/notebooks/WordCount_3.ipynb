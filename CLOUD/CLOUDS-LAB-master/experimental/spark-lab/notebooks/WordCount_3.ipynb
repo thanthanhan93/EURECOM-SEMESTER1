{
 "metadata": {
  "name": "",
  "signature": "sha256:0a20b449035022744aa2c5c9d173cebfb402c38c97ca1f26dcdb82687717ef02"
 },
 "nbformat": 3,
 "nbformat_minor": 0,
 "worksheets": [
  {
   "cells": [
    {
     "cell_type": "heading",
     "level": 1,
     "metadata": {},
     "source": [
      "WordCount in PySpark"
     ]
    },
    {
     "cell_type": "markdown",
     "metadata": {},
     "source": [
      "This is the canonical WordCount example, that is often used to start with MapReduce.\n",
      "\n",
      "We will read a large text file (downloaded from the Gutenberg project), parse it and do some counting."
     ]
    },
    {
     "cell_type": "markdown",
     "metadata": {},
     "source": [
      "Let's first import the necessary modules and the Spark Context"
     ]
    },
    {
     "cell_type": "code",
     "collapsed": false,
     "input": [
      "import sys\n",
      "from pyspark import SparkContext\n",
      "import re"
     ],
     "language": "python",
     "metadata": {},
     "outputs": [],
     "prompt_number": 1
    },
    {
     "cell_type": "markdown",
     "metadata": {},
     "source": [
      "Now we can write our WordCount program"
     ]
    },
    {
     "cell_type": "code",
     "collapsed": false,
     "input": [
      "def mapper(line):\n",
      "    words = re.split(\"\\W+\", line)\n",
      "    return [(w.lower(), 1) for w in words if w]\n",
      "\n",
      "lines = sc.textFile(\"hdfs://10.10.50.98/user/ubuntu/bus.txt\")\n",
      "\n",
      "counts = lines.flatMap(mapper).reduceByKey(lambda a, b: a+b)\n",
      "\n",
      "output = counts.collect()\n"
     ],
     "language": "python",
     "metadata": {},
     "outputs": [],
     "prompt_number": 2
    },
    {
     "cell_type": "markdown",
     "metadata": {},
     "source": [
      "Now let's inspect the output"
     ]
    },
    {
     "cell_type": "code",
     "collapsed": false,
     "input": [
      "for (word, count) in output:\n",
      "    print \"%s: %i\" % (word, count)"
     ],
     "language": "python",
     "metadata": {},
     "outputs": [
      {
       "output_type": "stream",
       "stream": "stdout",
       "text": [
        "town: 10\n",
        "and: 8\n",
        "all: 10\n",
        "love: 4\n",
        "babies: 2\n",
        "i: 4\n",
        "wheels: 2\n",
        "driver: 2\n",
        "beep: 12\n",
        "through: 10\n",
        "goes: 2\n",
        "go: 10\n",
        "says: 2\n",
        "you: 4\n",
        "mommies: 2\n",
        "the: 38\n",
        "down: 4\n",
        "back: 4\n",
        "on: 18\n",
        "people: 2\n",
        "bus: 14\n",
        "move: 4\n",
        "up: 4\n",
        "horn: 2\n",
        "whaa: 12\n",
        "daddies: 2\n",
        "shhh: 12\n",
        "round: 8\n"
       ]
      }
     ],
     "prompt_number": 3
    },
    {
     "cell_type": "markdown",
     "metadata": {},
     "source": [
      "Now, let's prepare the output to be plotted: we want to show the distribution of word frequency"
     ]
    },
    {
     "cell_type": "code",
     "collapsed": false,
     "input": [
      "sortedOutput = sorted(output, key = lambda x: -x[1])[:10]\n",
      "sortedOutput"
     ],
     "language": "python",
     "metadata": {},
     "outputs": [
      {
       "metadata": {},
       "output_type": "pyout",
       "prompt_number": 4,
       "text": [
        "[(u'the', 38),\n",
        " (u'on', 18),\n",
        " (u'bus', 14),\n",
        " (u'beep', 12),\n",
        " (u'whaa', 12),\n",
        " (u'shhh', 12),\n",
        " (u'town', 10),\n",
        " (u'all', 10),\n",
        " (u'through', 10),\n",
        " (u'go', 10)]"
       ]
      }
     ],
     "prompt_number": 4
    },
    {
     "cell_type": "markdown",
     "metadata": {},
     "source": [
      "Now we're ready to build our plot"
     ]
    },
    {
     "cell_type": "code",
     "collapsed": false,
     "input": [
      "%pylab inline\n",
      "import matplotlib.pyplot as plt\n",
      "\n",
      "words = [w[0] for w in sortedOutput]\n",
      "y_pos = range(len(sortedOutput))\n",
      "frequency = [w[1] for w in sortedOutput]\n",
      "\n",
      "plt.barh(y_pos, frequency[::-1], align='center', alpha=0.4)\n",
      "plt.yticks(y_pos, words[::-1])\n",
      "plt.xlabel('Frequency')\n",
      "plt.ylabel('Words')\n",
      "\n",
      "plt.show()"
     ],
     "language": "python",
     "metadata": {},
     "outputs": [
      {
       "output_type": "stream",
       "stream": "stdout",
       "text": [
        "Populating the interactive namespace from numpy and matplotlib\n"
       ]
      },
      {
       "metadata": {},
       "output_type": "display_data",
       "png": "[encoded data removed]",
       "text": [
        "<matplotlib.figure.Figure at 0x7ffcbe442950>"
       ]
      }
     ],
     "prompt_number": 5
    },
    {
     "cell_type": "markdown",
     "metadata": {},
     "source": [
      "And now let's stop the spark backend"
     ]
    },
    {
     "cell_type": "code",
     "collapsed": false,
     "input": [
      "sc.stop()"
     ],
     "language": "python",
     "metadata": {},
     "outputs": [],
     "prompt_number": 6
    },
    {
     "cell_type": "code",
     "collapsed": false,
     "input": [],
     "language": "python",
     "metadata": {},
     "outputs": [],
     "prompt_number": 6
    },
    {
     "cell_type": "code",
     "collapsed": false,
     "input": [],
     "language": "python",
     "metadata": {},
     "outputs": []
    }
   ],
   "metadata": {}
  }
 ]
}