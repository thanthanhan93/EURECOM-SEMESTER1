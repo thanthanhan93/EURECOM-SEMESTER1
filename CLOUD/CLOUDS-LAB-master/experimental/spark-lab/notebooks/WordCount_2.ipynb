{
 "metadata": {
  "name": "",
  "signature": "sha256:13ab8bc9ac5e13c649683dca4ae021e0a7d4ac9571da84464b6bea2acfe5016c"
 },
 "nbformat": 3,
 "nbformat_minor": 0,
 "worksheets": [
  {
   "cells": [
    {
     "cell_type": "heading",
     "level": 1,
     "metadata": {},
     "source": [
      "WordCount in PySpark"
     ]
    },
    {
     "cell_type": "markdown",
     "metadata": {},
     "source": [
      "This is the typical WordCount example.\n",
      "We will read a large text file (downloaded from the Gutenberg project), parse it and do some counting."
     ]
    },
    {
     "cell_type": "markdown",
     "metadata": {},
     "source": [
      "Let's first import the necessary modules and the Spark Context"
     ]
    },
    {
     "cell_type": "code",
     "collapsed": false,
     "input": [
      "import sys\n",
      "from operator import add\n",
      "from pyspark import SparkContext"
     ],
     "language": "python",
     "metadata": {},
     "outputs": [],
     "prompt_number": 1
    },
    {
     "cell_type": "markdown",
     "metadata": {},
     "source": [
      "Now we can write our WordCount program"
     ]
    },
    {
     "cell_type": "code",
     "collapsed": false,
     "input": [
      "'''sc = SparkContext(appName=\"PythonWordCount\")'''\n",
      "\n",
      "lines = sc.textFile(\"hdfs://10.10.50.98/user/ubuntu/bus.txt\")\n",
      "\n",
      "counts = lines.flatMap(lambda x: x.split(' ')) \\\n",
      "             .map(lambda x: (x, 1)) \\\n",
      "             .reduceByKey(add)\n",
      "\n",
      "output = counts.collect()"
     ],
     "language": "python",
     "metadata": {},
     "outputs": [
      {
       "output_type": "stream",
       "stream": "stdout",
       "text": [
        "town: 10\n",
        ": 8\n",
        "all: 10\n",
        "love: 4\n",
        "and: 8\n",
        "babies: 2\n",
        "I: 4\n",
        "wheels: 2\n",
        "The: 1\n",
        "driver: 2\n",
        "beep: 12\n",
        "through: 10\n",
        "goes: 2\n",
        "go: 10\n",
        "says: 2\n",
        "you: 4\n",
        "mommies: 2\n",
        "the: 37\n",
        "down: 4\n",
        "on: 18\n",
        "people: 2\n",
        "bus: 14\n",
        "move: 4\n",
        "back: 4\n",
        "up: 4\n",
        "whaa: 12\n",
        "daddies: 2\n",
        "horn: 2\n",
        "round: 8\n",
        "shhh: 12\n"
       ]
      }
     ],
     "prompt_number": 2
    },
    {
     "cell_type": "markdown",
     "metadata": {},
     "source": [
      "Now let's examine the output"
     ]
    },
    {
     "cell_type": "code",
     "collapsed": false,
     "input": [
      "\n",
      "for (word, count) in output:\n",
      "    print \"%s: %i\" % (word, count)\n"
     ],
     "language": "python",
     "metadata": {},
     "outputs": [
      {
       "output_type": "stream",
       "stream": "stdout",
       "text": [
        "town: 10\n",
        ": 8\n",
        "all: 10\n",
        "love: 4\n",
        "and: 8\n",
        "babies: 2\n",
        "I: 4\n",
        "wheels: 2\n",
        "The: 1\n",
        "driver: 2\n",
        "beep: 12\n",
        "through: 10\n",
        "goes: 2\n",
        "go: 10\n",
        "says: 2\n",
        "you: 4\n",
        "mommies: 2\n",
        "the: 37\n",
        "down: 4\n",
        "on: 18\n",
        "people: 2\n",
        "bus: 14\n",
        "move: 4\n",
        "back: 4\n",
        "up: 4\n",
        "whaa: 12\n",
        "daddies: 2\n",
        "horn: 2\n",
        "round: 8\n",
        "shhh: 12\n"
       ]
      }
     ],
     "prompt_number": 3
    },
    {
     "cell_type": "code",
     "collapsed": false,
     "input": [],
     "language": "python",
     "metadata": {},
     "outputs": []
    }
   ],
   "metadata": {}
  }
 ]
}